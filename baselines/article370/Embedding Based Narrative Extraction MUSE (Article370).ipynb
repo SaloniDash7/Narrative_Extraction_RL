{
 "cells": [
  {
   "cell_type": "markdown",
   "id": "3c6e0ac8",
   "metadata": {},
   "source": [
    "# IMPORT PACKAGES"
   ]
  },
  {
   "cell_type": "code",
   "execution_count": 1,
   "id": "4619e84c",
   "metadata": {},
   "outputs": [
    {
     "name": "stderr",
     "output_type": "stream",
     "text": [
      "C:\\Users\\t-sadash\\Anaconda3\\envs\\muse\\lib\\site-packages\\fuzzywuzzy\\fuzz.py:11: UserWarning: Using slow pure-python SequenceMatcher. Install python-Levenshtein to remove this warning\n",
      "  warnings.warn('Using slow pure-python SequenceMatcher. Install python-Levenshtein to remove this warning')\n"
     ]
    }
   ],
   "source": [
    "import pandas as pd\n",
    "import matplotlib.pyplot as plt\n",
    "import numpy as np\n",
    "import umap.umap_ as umap\n",
    "import seaborn as sns\n",
    "import os\n",
    "import hdbscan\n",
    "%matplotlib inline\n",
    "\n",
    "from sentence_transformers import SentenceTransformer\n",
    "from fuzzywuzzy import process, fuzz"
   ]
  },
  {
   "cell_type": "markdown",
   "id": "021ed680",
   "metadata": {},
   "source": [
    "# READ DATA"
   ]
  },
  {
   "cell_type": "code",
   "execution_count": 2,
   "id": "08adfcf1",
   "metadata": {},
   "outputs": [],
   "source": [
    "df = pd.read_json(\"./data/article370_misinformation_tweets.json\")"
   ]
  },
  {
   "cell_type": "code",
   "execution_count": 3,
   "id": "7faa32ae",
   "metadata": {},
   "outputs": [
    {
     "data": {
      "text/html": [
       "<div>\n",
       "<style scoped>\n",
       "    .dataframe tbody tr th:only-of-type {\n",
       "        vertical-align: middle;\n",
       "    }\n",
       "\n",
       "    .dataframe tbody tr th {\n",
       "        vertical-align: top;\n",
       "    }\n",
       "\n",
       "    .dataframe thead th {\n",
       "        text-align: right;\n",
       "    }\n",
       "</style>\n",
       "<table border=\"1\" class=\"dataframe\">\n",
       "  <thead>\n",
       "    <tr style=\"text-align: right;\">\n",
       "      <th></th>\n",
       "      <th>screen_name</th>\n",
       "      <th>party</th>\n",
       "      <th>created_at</th>\n",
       "      <th>id_str</th>\n",
       "      <th>full_text</th>\n",
       "      <th>hashtags</th>\n",
       "      <th>retweet_count</th>\n",
       "      <th>retweet_handle</th>\n",
       "    </tr>\n",
       "  </thead>\n",
       "  <tbody>\n",
       "    <tr>\n",
       "      <th>2229</th>\n",
       "      <td>ARDMEHRA1966</td>\n",
       "      <td>BJP</td>\n",
       "      <td>2019-08-06 06:31:25</td>\n",
       "      <td>1158626614453760000</td>\n",
       "      <td>article35a jammuandkashmir ladakh kashmirhamar...</td>\n",
       "      <td>[Article35A, JammuAndKashmir, Ladakh, KashmirH...</td>\n",
       "      <td>18</td>\n",
       "      <td>Ramesh_BJP</td>\n",
       "    </tr>\n",
       "    <tr>\n",
       "      <th>2591</th>\n",
       "      <td>ashutoshm2848</td>\n",
       "      <td>BJP</td>\n",
       "      <td>2019-08-05 06:51:17</td>\n",
       "      <td>1158269223417733120</td>\n",
       "      <td>syama p mukherjee knew that a day will come wh...</td>\n",
       "      <td>[Article370, KashmirParFinalFight]</td>\n",
       "      <td>0</td>\n",
       "      <td>None</td>\n",
       "    </tr>\n",
       "    <tr>\n",
       "      <th>2595</th>\n",
       "      <td>ashutoshm2848</td>\n",
       "      <td>BJP</td>\n",
       "      <td>2019-08-05 13:59:15</td>\n",
       "      <td>1158376928354508800</td>\n",
       "      <td>keep calm and trust mota bhai kashmirparfinalf...</td>\n",
       "      <td>[KashmirParFinalFight, AmitShah, ScrapArticle3...</td>\n",
       "      <td>0</td>\n",
       "      <td>None</td>\n",
       "    </tr>\n",
       "    <tr>\n",
       "      <th>2600</th>\n",
       "      <td>ashutoshm2848</td>\n",
       "      <td>BJP</td>\n",
       "      <td>2019-08-11 07:11:16</td>\n",
       "      <td>1160448580978479104</td>\n",
       "      <td>sunday morning dispatch from kashmir birds fly...</td>\n",
       "      <td>[Kashmir]</td>\n",
       "      <td>540</td>\n",
       "      <td>AdityaRajKaul</td>\n",
       "    </tr>\n",
       "    <tr>\n",
       "      <th>2807</th>\n",
       "      <td>Avinash03810101</td>\n",
       "      <td>BJP</td>\n",
       "      <td>2019-11-19 07:01:58</td>\n",
       "      <td>1196685028580679680</td>\n",
       "      <td>kashmirwelcomeschange best pic from jampk</td>\n",
       "      <td>[KashmirWelcomesChange]</td>\n",
       "      <td>110</td>\n",
       "      <td>GogiRajliwal</td>\n",
       "    </tr>\n",
       "  </tbody>\n",
       "</table>\n",
       "</div>"
      ],
      "text/plain": [
       "          screen_name party          created_at               id_str  \\\n",
       "2229     ARDMEHRA1966   BJP 2019-08-06 06:31:25  1158626614453760000   \n",
       "2591    ashutoshm2848   BJP 2019-08-05 06:51:17  1158269223417733120   \n",
       "2595    ashutoshm2848   BJP 2019-08-05 13:59:15  1158376928354508800   \n",
       "2600    ashutoshm2848   BJP 2019-08-11 07:11:16  1160448580978479104   \n",
       "2807  Avinash03810101   BJP 2019-11-19 07:01:58  1196685028580679680   \n",
       "\n",
       "                                              full_text  \\\n",
       "2229  article35a jammuandkashmir ladakh kashmirhamar...   \n",
       "2591  syama p mukherjee knew that a day will come wh...   \n",
       "2595  keep calm and trust mota bhai kashmirparfinalf...   \n",
       "2600  sunday morning dispatch from kashmir birds fly...   \n",
       "2807         kashmirwelcomeschange best pic from jampk    \n",
       "\n",
       "                                               hashtags  retweet_count  \\\n",
       "2229  [Article35A, JammuAndKashmir, Ladakh, KashmirH...             18   \n",
       "2591                 [Article370, KashmirParFinalFight]              0   \n",
       "2595  [KashmirParFinalFight, AmitShah, ScrapArticle3...              0   \n",
       "2600                                          [Kashmir]            540   \n",
       "2807                            [KashmirWelcomesChange]            110   \n",
       "\n",
       "     retweet_handle  \n",
       "2229     Ramesh_BJP  \n",
       "2591           None  \n",
       "2595           None  \n",
       "2600  AdityaRajKaul  \n",
       "2807   GogiRajliwal  "
      ]
     },
     "execution_count": 3,
     "metadata": {},
     "output_type": "execute_result"
    }
   ],
   "source": [
    "df.head()"
   ]
  },
  {
   "cell_type": "code",
   "execution_count": 4,
   "id": "741c51f2",
   "metadata": {},
   "outputs": [
    {
     "data": {
      "text/plain": [
       "503"
      ]
     },
     "execution_count": 4,
     "metadata": {},
     "output_type": "execute_result"
    }
   ],
   "source": [
    "df.shape[0]"
   ]
  },
  {
   "cell_type": "code",
   "execution_count": 5,
   "id": "d19edc6f",
   "metadata": {},
   "outputs": [],
   "source": [
    "df = df.drop_duplicates(subset='full_text')"
   ]
  },
  {
   "cell_type": "code",
   "execution_count": 6,
   "id": "75c9338f",
   "metadata": {},
   "outputs": [
    {
     "data": {
      "text/plain": [
       "(382, 8)"
      ]
     },
     "execution_count": 6,
     "metadata": {},
     "output_type": "execute_result"
    }
   ],
   "source": [
    "df.shape"
   ]
  },
  {
   "cell_type": "code",
   "execution_count": 7,
   "id": "1e68bbc9",
   "metadata": {},
   "outputs": [],
   "source": [
    "def fuzzy_matching(x, matches):\n",
    "    match = process.extractBests(x, df['full_text'].tolist(), scorer=fuzz.token_sort_ratio,\n",
    "               score_cutoff = 80)\n",
    "    print(len(match))\n",
    "    matches.append(match)"
   ]
  },
  {
   "cell_type": "code",
   "execution_count": 8,
   "id": "0241f752",
   "metadata": {
    "scrolled": true
   },
   "outputs": [
    {
     "name": "stdout",
     "output_type": "stream",
     "text": [
      "1\n",
      "1\n",
      "1\n",
      "1\n",
      "1\n",
      "1\n",
      "1\n",
      "1\n",
      "1\n",
      "1\n",
      "1\n",
      "1\n",
      "2\n",
      "1\n",
      "1\n",
      "1\n",
      "1\n",
      "1\n",
      "1\n",
      "1\n",
      "1\n",
      "1\n",
      "1\n",
      "1\n",
      "1\n",
      "1\n",
      "1\n",
      "1\n",
      "1\n",
      "1\n",
      "1\n",
      "1\n",
      "1\n",
      "2\n",
      "1\n",
      "1\n",
      "1\n",
      "1\n",
      "1\n",
      "1\n",
      "1\n",
      "1\n",
      "1\n",
      "1\n",
      "1\n",
      "1\n",
      "1\n",
      "1\n",
      "1\n",
      "1\n",
      "1\n",
      "1\n",
      "1\n",
      "1\n",
      "1\n",
      "1\n",
      "1\n",
      "1\n",
      "1\n",
      "1\n",
      "1\n",
      "1\n",
      "1\n",
      "1\n",
      "1\n",
      "1\n",
      "1\n",
      "2\n",
      "1\n",
      "1\n",
      "1\n",
      "1\n",
      "1\n",
      "1\n",
      "1\n",
      "1\n",
      "1\n",
      "1\n",
      "1\n",
      "1\n",
      "1\n",
      "1\n",
      "1\n",
      "1\n",
      "1\n",
      "1\n",
      "1\n",
      "1\n",
      "1\n",
      "1\n",
      "1\n",
      "1\n",
      "1\n",
      "1\n",
      "1\n",
      "1\n",
      "2\n",
      "1\n",
      "1\n",
      "1\n",
      "1\n",
      "1\n",
      "1\n",
      "1\n",
      "1\n",
      "1\n",
      "1\n",
      "1\n",
      "1\n",
      "1\n",
      "1\n",
      "1\n",
      "1\n",
      "1\n",
      "1\n",
      "1\n",
      "1\n",
      "1\n",
      "1\n",
      "1\n",
      "2\n",
      "2\n",
      "1\n",
      "1\n",
      "1\n",
      "1\n",
      "1\n",
      "1\n",
      "1\n",
      "1\n",
      "1\n",
      "1\n",
      "2\n",
      "1\n",
      "1\n",
      "1\n",
      "2\n",
      "1\n",
      "1\n",
      "1\n",
      "1\n",
      "1\n",
      "1\n",
      "2\n",
      "1\n",
      "1\n",
      "1\n",
      "1\n",
      "1\n",
      "1\n",
      "1\n",
      "1\n",
      "1\n",
      "1\n",
      "1\n",
      "1\n",
      "1\n",
      "1\n",
      "1\n",
      "1\n",
      "1\n",
      "2\n",
      "1\n",
      "1\n",
      "1\n",
      "1\n",
      "1\n",
      "1\n",
      "2\n",
      "1\n",
      "1\n",
      "1\n",
      "1\n",
      "1\n",
      "1\n",
      "1\n",
      "1\n",
      "1\n",
      "1\n",
      "1\n",
      "1\n",
      "1\n",
      "1\n",
      "1\n",
      "1\n",
      "1\n",
      "1\n",
      "1\n",
      "1\n",
      "1\n",
      "1\n",
      "1\n",
      "1\n",
      "1\n",
      "1\n",
      "1\n",
      "1\n",
      "1\n",
      "1\n",
      "1\n",
      "1\n",
      "1\n",
      "1\n",
      "1\n",
      "1\n",
      "1\n",
      "1\n",
      "1\n",
      "1\n",
      "1\n",
      "1\n",
      "1\n",
      "1\n",
      "1\n",
      "1\n",
      "1\n",
      "1\n",
      "1\n",
      "1\n",
      "1\n",
      "1\n",
      "1\n",
      "1\n",
      "1\n",
      "1\n",
      "1\n",
      "1\n",
      "1\n",
      "1\n",
      "1\n",
      "1\n",
      "1\n",
      "1\n",
      "1\n",
      "2\n",
      "2\n",
      "1\n",
      "1\n",
      "1\n",
      "1\n",
      "1\n",
      "1\n",
      "1\n",
      "1\n",
      "1\n",
      "1\n",
      "1\n",
      "1\n",
      "1\n",
      "1\n",
      "1\n",
      "1\n",
      "1\n",
      "2\n",
      "2\n",
      "1\n",
      "1\n",
      "1\n",
      "1\n",
      "1\n",
      "1\n",
      "1\n",
      "1\n",
      "1\n",
      "1\n",
      "1\n",
      "1\n",
      "1\n",
      "1\n",
      "1\n",
      "1\n",
      "1\n",
      "1\n",
      "1\n",
      "1\n",
      "1\n",
      "1\n",
      "1\n",
      "1\n",
      "1\n",
      "1\n",
      "1\n",
      "1\n",
      "1\n",
      "1\n",
      "1\n",
      "1\n",
      "1\n",
      "1\n",
      "1\n",
      "1\n",
      "1\n",
      "1\n",
      "1\n",
      "1\n",
      "1\n",
      "1\n",
      "1\n",
      "1\n",
      "1\n",
      "1\n",
      "1\n",
      "1\n",
      "1\n",
      "1\n",
      "1\n",
      "1\n",
      "1\n",
      "1\n",
      "2\n",
      "1\n",
      "1\n",
      "1\n",
      "2\n",
      "1\n",
      "1\n",
      "1\n",
      "1\n",
      "1\n",
      "1\n",
      "1\n",
      "1\n",
      "2\n",
      "1\n",
      "1\n",
      "1\n",
      "1\n",
      "1\n",
      "1\n",
      "1\n",
      "1\n",
      "1\n",
      "1\n",
      "1\n",
      "1\n",
      "1\n",
      "1\n",
      "1\n",
      "1\n",
      "1\n",
      "1\n",
      "1\n",
      "1\n",
      "1\n",
      "1\n",
      "1\n",
      "1\n",
      "1\n",
      "2\n",
      "1\n",
      "1\n",
      "1\n",
      "1\n",
      "1\n",
      "1\n",
      "2\n",
      "1\n",
      "1\n",
      "1\n",
      "1\n",
      "2\n",
      "1\n",
      "1\n",
      "1\n",
      "1\n",
      "1\n",
      "1\n",
      "1\n",
      "1\n",
      "1\n",
      "1\n",
      "1\n",
      "1\n",
      "1\n",
      "1\n",
      "1\n",
      "1\n",
      "1\n",
      "1\n",
      "1\n",
      "1\n",
      "1\n"
     ]
    },
    {
     "data": {
      "text/plain": [
       "2229      None\n",
       "2591      None\n",
       "2595      None\n",
       "2600      None\n",
       "2807      None\n",
       "          ... \n",
       "526808    None\n",
       "527814    None\n",
       "527821    None\n",
       "527892    None\n",
       "528347    None\n",
       "Name: full_text, Length: 382, dtype: object"
      ]
     },
     "execution_count": 8,
     "metadata": {},
     "output_type": "execute_result"
    }
   ],
   "source": [
    "matches = []\n",
    "df['full_text'].apply(lambda x: fuzzy_matching(x,matches))"
   ]
  },
  {
   "cell_type": "code",
   "execution_count": 42,
   "id": "e8c9d24a",
   "metadata": {},
   "outputs": [],
   "source": [
    "import pickle\n",
    "\n",
    "with open ('article370_fuzzy_matches', 'wb') as f:\n",
    "    pickle.dump(matches,f)"
   ]
  },
  {
   "cell_type": "code",
   "execution_count": 9,
   "id": "cb975faa",
   "metadata": {
    "scrolled": true
   },
   "outputs": [
    {
     "name": "stdout",
     "output_type": "stream",
     "text": [
      "[('congratulation to all indians 370 and 35a in dustbin its rightful place thank you bjp welldone modiji and amit shah kashmirparfinalfight article370  one flag one nation hdmalhotra manojtiwarimp jitenderkanwar parveshadv ', 100), ('congratulation to all indians 370 and 35a in dustbin its rightful place thank you bjp welldone modiji and amit shah kashmirparfinalfight article370 ', 81)]\n",
      "Deleted 1 Rows\n",
      "[('now india has 28 states 8 union territories  article370 kashmirbleeds kashmirhamarahai kashmirparfinalfight kashmirparfinalfight', 100), ('now india has 28 states 8 union territories  article370 kashmirbleeds kashmirhamarahai kashmirparfinalfight ', 91)]\n",
      "Deleted 1 Rows\n",
      "[('3 back to back six boom article370 kashmirparfinalfight ', 100), ('3 back to back six boom article370 kashmirparfinalfight  kashmirhamarahai ', 87)]\n",
      "Deleted 1 Rows\n",
      "[('historic moment for india home minister amit shah announces scrapping of article 370 in jammu n kashmir jai hind  remove35a kashmirparfinalfight article370 ', 100), ('historic moment for india home minister amitshah announces scrapping of article 370 in jammu n kashmir jai hind  remove35a kashmirparfinalfight ', 93)]\n",
      "Deleted 1 Rows\n",
      "[('now india has 28 states 8 union territories  article370 kashmirbleeds kashmirhamarahai kashmirparfinalfight ', 100), ('now india has 28 states 8 union territories  article370 kashmirbleeds kashmirhamarahai kashmirparfinalfight kashmirparfinalfight', 91)]\n",
      "Deleted 1 Rows\n",
      "[('      thank you narendramodi ji amitshah ji whole nation stands with you as you create ekbharatshreshtbharat i am proud to witness this historical moment article370 operationkashmir modihaitomumkinhai kashmirparfinalfight kashmirhamarahai', 100), ('      thank you narendramodi ji amitshah ji whole nation stands with you as you create ekbharatshreshtbharat i am proud to witness this historical moment article370 operationkashmir modihaitomumkinhai kashmirparfinalfight kashmirhamarahai ', 100)]\n",
      "Deleted 1 Rows\n",
      "[('3 back to back six boom article370 kashmirparfinalfight  kashmirhamarahai ', 100), ('3 back to back six boom article370 kashmirparfinalfight ', 87)]\n",
      "Deleted 1 Rows\n",
      "[('      thank you narendramodi ji amitshah ji whole nation stands with you as you create ekbharatshreshtbharat i am proud to witness this historical moment article370 operationkashmir modihaitomumkinhai kashmirparfinalfight kashmirhamarahai', 100), ('      thank you narendramodi ji amitshah ji whole nation stands with you as you create ekbharatshreshtbharat i am proud to witness this historical moment article370 operationkashmir modihaitomumkinhai kashmirparfinalfight kashmirhamarahai ', 100)]\n",
      "Deleted 1 Rows\n",
      "[('what will change in jammu amp kashmir after scrapping article370 standwithkashmir kashmirmeintiranga laddakh ', 100), ('here are few of the changes in jammu amp kashmir after scrapping article370 standwithkashmir kashmirmeintiranga ', 85)]\n",
      "Deleted 1 Rows\n",
      "[('here are few of the changes in jammu amp kashmir after scrapping article370 standwithkashmir kashmirmeintiranga ', 100), ('what will change in jammu amp kashmir after scrapping article370 standwithkashmir kashmirmeintiranga laddakh ', 85)]\n",
      "Deleted 1 Rows\n",
      "[('historic moment for india home minister amitshah announces scrapping of article 370 in jammu n kashmir jai hind  remove35a kashmirparfinalfight ', 100), ('historic moment for india home minister amit shah announces scrapping of article 370 in jammu n kashmir jai hind  remove35a kashmirparfinalfight article370 ', 93)]\n",
      "Deleted 1 Rows\n",
      "[('nehruabdullah era gone this is narendramodi yug centre to remove article 35a and article 370 home minister amitshah to make an official announcement in rajyasabha after a 2 minutsshivsena is with the govt nitishkumars jdu supposed to oppose kashmiroperation', 100), ('centre to removes article 35a and article 370 home minister amitshah to make an official announcement in rajyasabha after a 2 minutsshivsena is with the govt nitishkumars jdu supposed to oppose kashmiroperation', 90)]\n",
      "Deleted 1 Rows\n",
      "[('centre to removes article 35a and article 370 home minister amitshah to make an official announcement in rajyasabha after a 2 minutsshivsena is with the govt nitishkumars jdu supposed to oppose kashmiroperation', 100), ('nehruabdullah era gone this is narendramodi yug centre to remove article 35a and article 370 home minister amitshah to make an official announcement in rajyasabha after a 2 minutsshivsena is with the govt nitishkumars jdu supposed to oppose kashmiroperation', 84)]\n",
      "Deleted 1 Rows\n",
      "[('one nation one constitution one flag article370 kashmirparfinalfight 370gaya kashmirhamarahai jammukashmir ladakh', 100), ('one nation one constitution one flag article370 kashmirparfinalfight 370gaya kashmirhamarahai jammukashmir ladakh ', 100)]\n",
      "Deleted 1 Rows\n",
      "[('one nation one constitution one flag article370 kashmirparfinalfight 370gaya kashmirhamarahai jammukashmir ladakh', 100), ('one nation one constitution one flag article370 kashmirparfinalfight 370gaya kashmirhamarahai jammukashmir ladakh ', 100)]\n",
      "Deleted 1 Rows\n",
      "[('अफजल... \\nए बेटा अफजल... \\nरे अफजल... \\nअफजलवा... \\nअब नहीं निकलेगा का रे  😀😀😀😀\\n#KashmirHamaraHai\\n#kashmiroperation https://t.co/ky35YxMdUW', 100), ('अफजल... \\nए बेटा अफजल... \\nरे अफजल... \\nअफजलवा... \\nअब नहीं निकलेगा का रे  😀😀😀😀\\n#KashmirHamaraHai\\n#kashmiroperation https://t.co/0vbS7ro3ed', 89)]\n",
      "Deleted 1 Rows\n",
      "[('वंदे मातरम ! श्रीनगर सचिवालय पर यह राष्ट्रीय ध्वज आज एहसास करा रहा है कि भारत  एक देश, एक संविधान, एक निशान वाला संप्रभुराष्ट्र का रूतबा हासिल कर लिया है। हज़ारों शहीद जवानों के प्रति यह सच्ची श्रद्धांजलि है ।#Article370revoked  @narendramodi #kashmirmeintiranga https://t.co/jAGt5g0Ny8', 100), ('वंदे मातरम ! श्रीनगर सचिवालय पर यह राष्ट्रीय ध्वज आज एहसास करा रहा है कि भारत  एक देश, एक संविधान, एक निशान वाला संप्रभुराष्ट्र का रूतबा हासिल कर लिया है। हज़ारों शहीद जवानों के प्रति यह सच्ची श्रद्धांजलि है ।#Article370revoked  @narendramodi #kashmirmeintiranga https://t.co/EJWg5oaFzg', 96)]\n",
      "Deleted 1 Rows\n",
      "[('वंदे मातरम ! श्रीनगर सचिवालय पर यह राष्ट्रीय ध्वज आज एहसास करा रहा है कि भारत  एक देश, एक संविधान, एक निशान वाला संप्रभुराष्ट्र का रूतबा हासिल कर लिया है। हज़ारों शहीद जवानों के प्रति यह सच्ची श्रद्धांजलि है ।#Article370revoked  @narendramodi #kashmirmeintiranga https://t.co/EJWg5oaFzg', 100), ('वंदे मातरम ! श्रीनगर सचिवालय पर यह राष्ट्रीय ध्वज आज एहसास करा रहा है कि भारत  एक देश, एक संविधान, एक निशान वाला संप्रभुराष्ट्र का रूतबा हासिल कर लिया है। हज़ारों शहीद जवानों के प्रति यह सच्ची श्रद्धांजलि है ।#Article370revoked  @narendramodi #kashmirmeintiranga https://t.co/jAGt5g0Ny8', 96)]\n",
      "Deleted 1 Rows\n",
      "[('अफजल... \\nए बेटा अफजल... \\nरे अफजल... \\nअफजलवा... \\nअब नहीं निकलेगा का रे  😀😀😀😀\\n#KashmirHamaraHai\\n#kashmiroperation https://t.co/0vbS7ro3ed', 100), ('अफजल... \\nए बेटा अफजल... \\nरे अफजल... \\nअफजलवा... \\nअब नहीं निकलेगा का रे  😀😀😀😀\\n#KashmirHamaraHai\\n#kashmiroperation https://t.co/ky35YxMdUW', 89)]\n",
      "Deleted 1 Rows\n",
      "[('Ye Utare hue chehre dekh lo zara 🤣🤣🤣 #KashmirParFinalFight #kashmiroperation #OperationKashmir #KashmirHamaraHai… https://t.co/xgC0FUxtr8', 100), ('Ye Utare hue chehre dekh lo zara 🤣🤣🤣 #KashmirParFinalFight #kashmiroperation #OperationKashmir #KashmirHamaraHai #Article370Scrapped #Article370 https://t.co/4owJFpkPNj', 82)]\n",
      "Deleted 1 Rows\n",
      "[('Ye Utare hue chehre dekh lo zara 🤣🤣🤣 #KashmirParFinalFight #kashmiroperation #OperationKashmir #KashmirHamaraHai #Article370Scrapped #Article370 https://t.co/4owJFpkPNj', 100), ('Ye Utare hue chehre dekh lo zara 🤣🤣🤣 #KashmirParFinalFight #kashmiroperation #OperationKashmir #KashmirHamaraHai… https://t.co/xgC0FUxtr8', 82)]\n",
      "Deleted 1 Rows\n"
     ]
    }
   ],
   "source": [
    "for match in matches:\n",
    "    if len(match) > 1:\n",
    "        print(match)\n",
    "        for i in range(1,len(match)):\n",
    "            df.drop(df[df['full_text'] == match[i][0]].index, inplace = True)\n",
    "        print(\"Deleted {} Rows\".format(len(match)-1))"
   ]
  },
  {
   "cell_type": "code",
   "execution_count": 10,
   "id": "c426ea52",
   "metadata": {},
   "outputs": [
    {
     "data": {
      "text/plain": [
       "(363, 8)"
      ]
     },
     "execution_count": 10,
     "metadata": {},
     "output_type": "execute_result"
    }
   ],
   "source": [
    "df.shape"
   ]
  },
  {
   "cell_type": "markdown",
   "id": "f5d9eb1e",
   "metadata": {},
   "source": [
    "# DOWNLOAD MUSE"
   ]
  },
  {
   "cell_type": "code",
   "execution_count": 11,
   "id": "af2959d4",
   "metadata": {},
   "outputs": [],
   "source": [
    "muse = SentenceTransformer('distiluse-base-multilingual-cased-v2')"
   ]
  },
  {
   "cell_type": "code",
   "execution_count": 12,
   "id": "13815504",
   "metadata": {},
   "outputs": [],
   "source": [
    "def embed(sentences):\n",
    "    return muse.encode(sentences)"
   ]
  },
  {
   "cell_type": "markdown",
   "id": "4af40686",
   "metadata": {},
   "source": [
    "# TWEET EMBEDDINGS"
   ]
  },
  {
   "cell_type": "code",
   "execution_count": 13,
   "id": "46a56a13",
   "metadata": {},
   "outputs": [],
   "source": [
    "screen_names = []\n",
    "party = []\n",
    "embeddings = []\n",
    "no_users = len(df['screen_name'].unique())\n",
    "tweets = []\n",
    "def get_user_embeddings(df):\n",
    "    for i, (sc, grp) in enumerate(df.groupby('screen_name')):\n",
    "        screen_names.extend(grp['screen_name'].tolist())\n",
    "        embeddings.extend(embed(grp['full_text'].tolist()))\n",
    "        party.extend(grp['party'].tolist())\n",
    "        tweets.extend(grp['full_text'].tolist())\n",
    "        print(\"{0}/{1}\".format(i,no_users), end = '\\r', flush = True)"
   ]
  },
  {
   "cell_type": "code",
   "execution_count": 14,
   "id": "091732d0",
   "metadata": {},
   "outputs": [
    {
     "name": "stdout",
     "output_type": "stream",
     "text": [
      "254/255\r"
     ]
    }
   ],
   "source": [
    "get_user_embeddings(df)"
   ]
  },
  {
   "cell_type": "code",
   "execution_count": 15,
   "id": "722ba43b",
   "metadata": {},
   "outputs": [
    {
     "name": "stdout",
     "output_type": "stream",
     "text": [
      "363 363 363 (512,)\n"
     ]
    }
   ],
   "source": [
    "print(len(screen_names), len(party), len(embeddings), embeddings[0].shape)"
   ]
  },
  {
   "cell_type": "markdown",
   "id": "67c23a2c",
   "metadata": {},
   "source": [
    "# UMAP REDUCTION"
   ]
  },
  {
   "cell_type": "code",
   "execution_count": 16,
   "id": "28df6f03",
   "metadata": {},
   "outputs": [],
   "source": [
    "tweet_embeddings = np.array(embeddings)"
   ]
  },
  {
   "cell_type": "code",
   "execution_count": 17,
   "id": "91d457cb",
   "metadata": {},
   "outputs": [],
   "source": [
    "reducer = umap.UMAP()"
   ]
  },
  {
   "cell_type": "code",
   "execution_count": 18,
   "id": "7496ef6c",
   "metadata": {},
   "outputs": [
    {
     "data": {
      "text/plain": [
       "(363, 2)"
      ]
     },
     "execution_count": 18,
     "metadata": {},
     "output_type": "execute_result"
    }
   ],
   "source": [
    "umap_tweet_embedding = reducer.fit_transform(tweet_embeddings)\n",
    "umap_tweet_embedding.shape"
   ]
  },
  {
   "cell_type": "markdown",
   "id": "fad1d492",
   "metadata": {},
   "source": [
    "# CLUSTER EMBEDDINGS"
   ]
  },
  {
   "cell_type": "markdown",
   "id": "25880c36",
   "metadata": {},
   "source": [
    "# HDB-SCAN"
   ]
  },
  {
   "cell_type": "code",
   "execution_count": 31,
   "id": "61a9d23c",
   "metadata": {},
   "outputs": [],
   "source": [
    "clusterer = hdbscan.HDBSCAN(min_cluster_size = 6)"
   ]
  },
  {
   "cell_type": "code",
   "execution_count": 32,
   "id": "c4e8c04b",
   "metadata": {},
   "outputs": [
    {
     "data": {
      "text/plain": [
       "HDBSCAN(min_cluster_size=6)"
      ]
     },
     "execution_count": 32,
     "metadata": {},
     "output_type": "execute_result"
    }
   ],
   "source": [
    "clusterer.fit(umap_tweet_embedding)"
   ]
  },
  {
   "cell_type": "code",
   "execution_count": 33,
   "id": "4c894aa2",
   "metadata": {},
   "outputs": [
    {
     "data": {
      "text/plain": [
       "6"
      ]
     },
     "execution_count": 33,
     "metadata": {},
     "output_type": "execute_result"
    }
   ],
   "source": [
    "clusterer.labels_.max()"
   ]
  },
  {
   "cell_type": "code",
   "execution_count": 34,
   "id": "ac4c112c",
   "metadata": {},
   "outputs": [],
   "source": [
    "scatter_df = pd.DataFrame()\n",
    "scatter_df['x'] = umap_tweet_embedding[:, 0]\n",
    "scatter_df['y'] = umap_tweet_embedding[:, 1]\n",
    "scatter_df['party'] = party\n",
    "scatter_df['screen_name'] = screen_names\n",
    "scatter_df['tweets'] = tweets"
   ]
  },
  {
   "cell_type": "code",
   "execution_count": 35,
   "id": "87744b30",
   "metadata": {},
   "outputs": [
    {
     "data": {
      "text/html": [
       "<div>\n",
       "<style scoped>\n",
       "    .dataframe tbody tr th:only-of-type {\n",
       "        vertical-align: middle;\n",
       "    }\n",
       "\n",
       "    .dataframe tbody tr th {\n",
       "        vertical-align: top;\n",
       "    }\n",
       "\n",
       "    .dataframe thead th {\n",
       "        text-align: right;\n",
       "    }\n",
       "</style>\n",
       "<table border=\"1\" class=\"dataframe\">\n",
       "  <thead>\n",
       "    <tr style=\"text-align: right;\">\n",
       "      <th></th>\n",
       "      <th>x</th>\n",
       "      <th>y</th>\n",
       "      <th>party</th>\n",
       "      <th>screen_name</th>\n",
       "      <th>tweets</th>\n",
       "    </tr>\n",
       "  </thead>\n",
       "  <tbody>\n",
       "    <tr>\n",
       "      <th>0</th>\n",
       "      <td>6.828958</td>\n",
       "      <td>11.718719</td>\n",
       "      <td>INF</td>\n",
       "      <td>1Hemanttiwari</td>\n",
       "      <td>kashmir ruckus in parliament after amitshah an...</td>\n",
       "    </tr>\n",
       "    <tr>\n",
       "      <th>1</th>\n",
       "      <td>10.465922</td>\n",
       "      <td>9.580171</td>\n",
       "      <td>INF</td>\n",
       "      <td>1Hemanttiwari</td>\n",
       "      <td>#kashmiroperation धारा 370हटाने, राज्य के पुनर...</td>\n",
       "    </tr>\n",
       "    <tr>\n",
       "      <th>2</th>\n",
       "      <td>10.099915</td>\n",
       "      <td>9.614755</td>\n",
       "      <td>INF</td>\n",
       "      <td>1Hemanttiwari</td>\n",
       "      <td>#kashmiroperation  \\nऐतिहासिक फैसला!\\n#जम्मूकश...</td>\n",
       "    </tr>\n",
       "    <tr>\n",
       "      <th>3</th>\n",
       "      <td>9.506536</td>\n",
       "      <td>10.367865</td>\n",
       "      <td>BJP</td>\n",
       "      <td>56perumal</td>\n",
       "      <td>why not name the srinagar stadium after adi sh...</td>\n",
       "    </tr>\n",
       "    <tr>\n",
       "      <th>4</th>\n",
       "      <td>6.360335</td>\n",
       "      <td>12.027316</td>\n",
       "      <td>BJP</td>\n",
       "      <td>AB_BJP</td>\n",
       "      <td>bill to annul article370 amp article35a passed...</td>\n",
       "    </tr>\n",
       "    <tr>\n",
       "      <th>...</th>\n",
       "      <td>...</td>\n",
       "      <td>...</td>\n",
       "      <td>...</td>\n",
       "      <td>...</td>\n",
       "      <td>...</td>\n",
       "    </tr>\n",
       "    <tr>\n",
       "      <th>358</th>\n",
       "      <td>10.062700</td>\n",
       "      <td>11.315251</td>\n",
       "      <td>INF</td>\n",
       "      <td>vivekbhavsar</td>\n",
       "      <td>over 6000 youth take part in army recruitment ...</td>\n",
       "    </tr>\n",
       "    <tr>\n",
       "      <th>359</th>\n",
       "      <td>6.721293</td>\n",
       "      <td>11.994666</td>\n",
       "      <td>INF</td>\n",
       "      <td>viveksinha28</td>\n",
       "      <td>excerpts of columns on art 370 amp art 35a wri...</td>\n",
       "    </tr>\n",
       "    <tr>\n",
       "      <th>360</th>\n",
       "      <td>6.561605</td>\n",
       "      <td>10.628782</td>\n",
       "      <td>INF</td>\n",
       "      <td>wajihulla</td>\n",
       "      <td>jubilant voices of kashmiripandits as home min...</td>\n",
       "    </tr>\n",
       "    <tr>\n",
       "      <th>361</th>\n",
       "      <td>7.953005</td>\n",
       "      <td>12.654979</td>\n",
       "      <td>INF</td>\n",
       "      <td>whoskj2</td>\n",
       "      <td>three dead in todays fake encounters insaaniya...</td>\n",
       "    </tr>\n",
       "    <tr>\n",
       "      <th>362</th>\n",
       "      <td>11.509178</td>\n",
       "      <td>10.966083</td>\n",
       "      <td>INF</td>\n",
       "      <td>zohrabai</td>\n",
       "      <td>Those celebrating abrogation of #Article370 wi...</td>\n",
       "    </tr>\n",
       "  </tbody>\n",
       "</table>\n",
       "<p>363 rows × 5 columns</p>\n",
       "</div>"
      ],
      "text/plain": [
       "             x          y party    screen_name  \\\n",
       "0     6.828958  11.718719   INF  1Hemanttiwari   \n",
       "1    10.465922   9.580171   INF  1Hemanttiwari   \n",
       "2    10.099915   9.614755   INF  1Hemanttiwari   \n",
       "3     9.506536  10.367865   BJP      56perumal   \n",
       "4     6.360335  12.027316   BJP         AB_BJP   \n",
       "..         ...        ...   ...            ...   \n",
       "358  10.062700  11.315251   INF   vivekbhavsar   \n",
       "359   6.721293  11.994666   INF   viveksinha28   \n",
       "360   6.561605  10.628782   INF      wajihulla   \n",
       "361   7.953005  12.654979   INF        whoskj2   \n",
       "362  11.509178  10.966083   INF       zohrabai   \n",
       "\n",
       "                                                tweets  \n",
       "0    kashmir ruckus in parliament after amitshah an...  \n",
       "1    #kashmiroperation धारा 370हटाने, राज्य के पुनर...  \n",
       "2    #kashmiroperation  \\nऐतिहासिक फैसला!\\n#जम्मूकश...  \n",
       "3    why not name the srinagar stadium after adi sh...  \n",
       "4    bill to annul article370 amp article35a passed...  \n",
       "..                                                 ...  \n",
       "358  over 6000 youth take part in army recruitment ...  \n",
       "359  excerpts of columns on art 370 amp art 35a wri...  \n",
       "360  jubilant voices of kashmiripandits as home min...  \n",
       "361  three dead in todays fake encounters insaaniya...  \n",
       "362  Those celebrating abrogation of #Article370 wi...  \n",
       "\n",
       "[363 rows x 5 columns]"
      ]
     },
     "execution_count": 35,
     "metadata": {},
     "output_type": "execute_result"
    }
   ],
   "source": [
    "scatter_df"
   ]
  },
  {
   "cell_type": "code",
   "execution_count": 36,
   "id": "5b0591cb",
   "metadata": {},
   "outputs": [],
   "source": [
    "scatter_df['cluster_labels'] = clusterer.labels_"
   ]
  },
  {
   "cell_type": "code",
   "execution_count": 37,
   "id": "6b80f1f3",
   "metadata": {},
   "outputs": [
    {
     "data": {
      "text/plain": [
       "<AxesSubplot:xlabel='x', ylabel='y'>"
      ]
     },
     "execution_count": 37,
     "metadata": {},
     "output_type": "execute_result"
    },
    {
     "data": {
      "image/png": "[encoded data removed]",
      "text/plain": [
       "<Figure size 432x288 with 1 Axes>"
      ]
     },
     "metadata": {
      "needs_background": "light"
     },
     "output_type": "display_data"
    }
   ],
   "source": [
    "sns.scatterplot(x=\"x\", y = \"y\", data = scatter_df[(scatter_df['cluster_labels']!=-1)], hue = 'cluster_labels', palette = 'tab20b',legend = False, alpha = 0.5)"
   ]
  },
  {
   "cell_type": "markdown",
   "id": "085aab10",
   "metadata": {},
   "source": [
    "## TOP TWEETS"
   ]
  },
  {
   "cell_type": "code",
   "execution_count": 38,
   "id": "969bbe4d",
   "metadata": {},
   "outputs": [],
   "source": [
    "scatter_df['prob'] = clusterer.probabilities_"
   ]
  },
  {
   "cell_type": "code",
   "execution_count": 39,
   "id": "cc2d73d8",
   "metadata": {},
   "outputs": [
    {
     "name": "stdout",
     "output_type": "stream",
     "text": [
      "Top Tweets for Cluster 0 with probabilities [1.0, 1.0, 1.0, 1.0, 1.0, 1.0, 0.9867328943011607, 0.9669311447883407, 0.9535960004129368, 0.7833186648871924]\n",
      "['retweet if you support one country one constitution one flag shameoncongress article370 kashmirmeintiranga ', 'one nation one flag one constitution proud of hon shr pm narendramodi ji and shri amitshah ji for taking this step kashmirmeintiranga onenationonelaw onenationoneteam oneindia article370 bharatekhai 370abolished historic bjp ', 'one nation one flag one emotion love india historic decision remove35a article370 jammuandkashmir kashmirhamarahai ladakh kashmirparfinalfight 370gaya 370gone 370abolished ladakh ', 'national flag hoisted in lalchowk in srinagar to giant screen telecast of pm narendramodi independenceday speech at jehangirchowk which isnt far from lalchowk a stark contrast to independenceday celebrations in jammuandkashmir on the first year of abrogation article370 ', 'one flag one nation one constitution long live india jai hind article370 kashmirmeintiranga ', 'chidambaram wants to unite the opposition to bring back article370 and allow pakistani flag at lal chowk narendramodi ji boldly abrogated article370 in august19 how many of you want indian flag flying high at historic lalchowk of srinagar  amitshah bjp4india ', 'one nation one constitution one flag article370 kashmirparfinalfight 370gaya kashmirhamarahai jammukashmir ladakh', 'this happens after the scrapping of article 370 one nation one flag kashmirmeintiranga article370scrapped ', 'neerajsaxena issue is not of hindu or muslims issue here is of supremacy of the state one state one flag kashmir kashmirmeintiranga kashmirmerijaan kashmirintegrated article370scrapped article370 artical370 article370revoked article35a art370 article371', 'shameoncongress right time to recall this pic  retweet if you agree article370 kashmirparfinalfight ']\n",
      "-----------------------------------------------------------------\n",
      "Top Tweets for Cluster 1 with probabilities [1.0, 1.0, 1.0, 1.0, 1.0, 1.0, 0.9919514471815549, 0.9292437664501012, 0.9128781412353727]\n",
      "['पाकिस्तान ने कहा कि भारत का फैसला हमें स्वीकार्य नहीं है\\n\\nओ बोले बेटा आपसे पुछा किसने है ?\\n😂😂😂😂\\n#KashmirHamaraHai #Remove35A #Article370 #kashmiroperation #KashmirParFinalFight https://t.co/oGhRzDG1rQ', 'hello pakistan oops  united nations rejects pakistans appeal for intervention on jk kashmirwithmodi kashmirhamarahai kashmirwelcomeschange kashmirintegrated ', 'kashmirwelcomeschange malala why the hell are you worried about kashmiri children  its india not pakistan the ', 'kashmirwelcomeschange where people in pakistan occupied jammu amp kashmir call for azadi from paki occupation and sa ', 'dear world please raise ur voice stop balochgenocide  crimes committed pakistan against baloch in occupied balochistan from 1948 to 2019 more than billion baluch killed indiaungeneva un kashmirparfinalfight article370 kashmir balochistan bakoch ', 'पाकिस्तान में लगे अखंड भारत बनाने के बैनर #IndiaFirst #Pakistan #kashmiroperation #KashmirParFinalFight… https://t.co/XhbHbpyZn3', 'हर भारतीयों का कहना, पाकिस्तान कश्मीर से दूर ही रहना #IndiaFirst #Kashmir #kashmiroperation #KashmirParFinalFight… https://t.co/CBJS1sZ487', 'अखंड भारत का स्वप्न अब पूरा हुआ,देश की अखंडता और सार्वभौमत्व के साथ कोई समजोता कभी हो ही नही सकता।मुजे गर्व है कि में भाजपा का कार्यकता हु, जो निरंतर देश हित के कार्यो को करती है।\\n\\n#KashmirParFinalFight #KashmirHamaraHai #StandwithKashmir #kashmirmeintiranga https://t.co/uaEBI56nXf', 'not a 1st when india media ndtv os distorted and manipulatively edited by pakistan kashmirmeintiranga 370article 370 pakistan ']\n",
      "-----------------------------------------------------------------\n",
      "Top Tweets for Cluster 2 with probabilities [1.0, 1.0, 1.0, 1.0, 1.0, 1.0, 1.0, 0.9246555646931764, 0.9193856685411568, 0.9159809065908959]\n",
      "['historic moment victory for the nation do you think this is a good decision article370 kashmirhamarahai 370gaya kashmirparfinalfight jammuandkashmir 370scrapped bharatekhai 370abolished kashmirmeintiranga 370gone', 'historic moment  the most awaited moment is here narendramodi govt revokes article 370 35a no words to express my feelings blessed to witness the day 370gone 35a kashmirparfinalfight indiaforkashmir merabharatmahan ', 'celebrating the historic and landmark decision of shri narendramodi ji led govt to revoor article 370 370gaya kashmirmeintiranga ', 'amit shah as home minister of india created history hm proposes revocation of article 370 in parliament jammuandkashmir kashmirparfinalfight amitshah remove370', 'now that the historic decision has been taken it is important to act with maturity no time to exult but essential to quickly woo the peace constituency in the valley my cnbctv18live quick analysis  binoyprabhakar article370 kashmirparfinalfight', 'historic amp gamechanging kashmirissue its only narendramodi govt who had the couragearticle 370 and 35a to be scraped thanks to all involved amitshah  kashmirparfinalfight kashmirhamarahai ', 'today is our historic victory the modi government has handed down 370 sections and 35a in jammu and kashmir  kashmirparfinalfight 370gone jammuandkashmir ', 'historic moment for our country home minister sh amitshah ji announces scrapping of article 370 in jammu and kashmir inside the parliament jammuandkashmir kashmirhamarahai kashmirparfinalfight kashmirissue kashmiroperation article370', 'modi fulfills his promise article 370 is history now kashmirparfinalfight bharatekhai nam0 amitshah narendramodi', 'article 370 amp 35a scrapped by govt of india through presidential decree jampk and ladakh to be 2 separate ut kashmirparfinalfight jammuandkashmir']\n",
      "-----------------------------------------------------------------\n",
      "Top Tweets for Cluster 3 with probabilities [1.0, 1.0, 1.0, 1.0, 1.0, 1.0, 1.0, 1.0, 1.0, 1.0]\n",
      "['#kashmiroperation धारा 370हटाने, राज्य के पुनर्गठन और आरक्षण संबंधित चार संकल्प राज्यसभा में @AmitShah ने किए प्रस्तुत, भारी हंगामा.@PMOIndia', 'अपूर्वानंद का कालम-कश्मीर पर IAS अफ़सर कन्नन ने इस्तीफ़ा दिया? सत्य \\n\\n@narendramodi @rssurjewala @priyankagandhi @RahulGandhi @rahuldev2 @PrabhuChawla \\n\\n#KashmirParFinalFight #Kashmir #KashmirWithModi #Kashmiris #kashmirmeintiranga #KashmirWelcomesChange \\n\\nhttps://t.co/mTwb4R7rUp', 'jammuandkashmir is entering a new era in august 2019 how it will unfold for kashmiri not very easy to predict however kashmiroperation is far from being over even after 370scrapped', '\"कश्मीर में अब कोई दरवाजा भी खटखटाता है\\n\\nतो अफजल अंदर से चिल्लाता है,  \\nभारत माता की जय🇮🇳🇮🇳 #KashmirParFinalFight #kashmirparbadafaisla #KashmirBleeds #KashmirUnderThreat #kashmiroperation', 'पीएम मोदी का कौन सा फैसला आपको सबसे बड़ा लगा?\\n#Demonetization #kashmiroperation #370Scrapped #Article370… https://t.co/frxN6pPMBI', 'BIG BREAKING - \\n\\nमहबूबा मुफ़्ती, उमर अब्दुल्ला गिरफ़्तार\\n#KashmirHamaraHai #KashmirParFinalFight #KashmirBleeds #Kashmir #kashmiroperation #KashmirIssue #KashmirMeinTiranga \\n https://t.co/9gEvPDzCPa', 'यही रात अंतिम यही रात भारी !! \\nआज @MehboobaMufti और @OmarAbdullah शायद यही गुनगुना रहे होंगे ☺️\\n@AmitShah @narendramodi \\n#KashmirParFinalFight \\n#kashmiroperation https://t.co/izUSnHByRe', '#kashmirmeintiranga आज भारत के लिए ऐतिहासिक दिन है।तो लहराइये तिरंगा और नए युग में प्रवेश कीजिए। काश्मीर हमारा है।। #KashmirParFinalFight\\n#kashmiroperation #kashmirhumarahai #370gaya #JammuAndKashmir #JammuKashmir #JaiHind', 'उर्मिलेश का कालम-कश्मीर में प्रेस पर पाबंदी जायज़ है? प्रेस कौंसिल ने सरकार के सामने पूरी तरह से सरेंडर कर दिया है? \\n\\n@BJP4India @sardesairajdeep @sardanarohit @priyankagandhi \\n\\n#Kashmir #kashmirmeintiranga #KashmiriPandits #PressInKashmir #satya \\n\\nhttps://t.co/5DiTl1hmMV', 'अनु 370:मामला सुप्रीम कोर्ट में है। क्या अदालत पहले वाली स्थिति लौटा सकती है?\\nसत्य \\n\\n@BJP4India @PrabhuChawla @INCIndia \\n\\n#KashmirBleeds #kashmirmeintiranga #KashmirHour #KashmirHamaraHai #KashmirStillUnderCurfew #KashmirParFinalFight #KashmirIntegrated \\n\\nhttps://t.co/nCLpmaQFHY']\n",
      "-----------------------------------------------------------------\n",
      "Top Tweets for Cluster 4 with probabilities [1.0, 1.0, 1.0, 1.0, 1.0, 1.0, 0.9794868560538449, 0.9534849524893226, 0.9471702766373395, 0.924402097942836]\n",
      "['committed to growth of jampk kashmirwithmodi kashmirwelcomeschange please follow tirangatribune for positive ', 'exclusive  political ripples over times now newsbreak  ncp opposes tirangaatlalchowk listen to what advmajeedmemon rajya sabha mp has to say about the centres independence day plans in jampk  tirangaatlalchowk ', 'patriotic fervor grips jampk centre draws up glitzy plan to hoist trianga at lal chowk sources  pradeep dutta with details  tirangaatlalchowk ', 'aww so cute shehlarashid jammukashmir kashmirhamarahai 35a 370scrapped kashmiroperation modihaitomumkinhai amitshah narendramodiin ', 'lets extend our farming activity to jampk  yuvabrigade kashmirparfinalfight', 'carnivalcinemas makes the first move and have announced to open 30 screens in jampk and 5 screens in ladakh this will give big boost to economy and entertainment in the valley kashmirwelcomeschange ladakhwelcomeschange', 'there were times when hoisting tri color at this place would get that person arrested oneyearofnoarticle370 and see the difference all credit goes to narendramodi ji and amitshah ji lalchowk kashmir ', 'just a reminder ms dhoni is in jammuandkashmir the finisher  msdhoni adgpi crpfindia kashmiroperation ', 'i am from jammuandkashmir and i own more than 300 kanals of land those who are interested kindly contact me eligibility  hindu or sikh ippatel vivekagnihotri sudhirchaudhary tajinderbagga kashmirparfinalfight indiaforkashmir kashmirbangyabharat article370 gone', 'to get all latest news updates on kashmirissue subscribe youtube channel of tv9 gujarati and dont forget to click bell icon  kashmirparfinalfight article370revoked jammuandkashmir tv9news ']\n",
      "-----------------------------------------------------------------\n",
      "Top Tweets for Cluster 5 with probabilities [1.0, 1.0, 1.0, 1.0, 1.0, 1.0, 1.0, 0.9840334677783068, 0.9529375361948527, 0.9080154704756118]\n",
      "['congratulations to narendramodi ji amitshah ji n ajitdoval for this indispensable cal for kashmir thoughts like this by previous govts wud hav prevented bloodsheds and terrorism article370 article35 kashmirparfinalfight dpradhanbjp mishrakasturi bjp4india bjp4odisha', 'the one man whose memories the bjp should be summoning today is  drsyamaprasadmookerjee not mahatmagandhi whod have for all we know opposed what govt has done today in national interest article370 kashmirhamarahai jammuandkashmir kashmirparfinalfight 370gaya ', 'ruthless killing of innocent kashmiri pandits kept haunting every rational individual proud and happy to have a government that does what it promises article370 jammuandkashmir kashmirparfinalfight remove35a standwithkashmir kashmirhamarahai breaking ', 'syama p mukherjee knew that a day will come when his sacrifice for the nation will be worth watching amp he knew that like ram and lakshman there would be narendramodi and amitshah who will save this country from many menace article370 is one of them kashmirparfinalfight', 'congratulations to honorable prime minister narendramodi ji honorable home minister amitshah ji for the historic decision made in jammu amp kashmir this will lead jammu amp kashmir towards new dimensions of growth and the prolific development kashmirparfinalfight artical35a', 'demonitisation gst surgical strike air strike article370 honorable pm narendra modi is the most fearless boldest and strongest prime minister in indias history rt if u agree   narendramodi jammuandkashmir article370 kashmirparfinalfight ', 'what an incredible journey  what a great prime minister and home minister  narendramodi amitshah kashmirparfinalfight from to this this kashmirhamarahai article370 best amp most fearless pm of india kashmirhamarahai ', 'ek desh mein do vidhan do pradhan do nishan nahin ho sakte thank u narendramodi ji amp the people of india for fulfilling the dream of dr shyamaprasadmukherjee article370 remove35a kashmirparfinalfight amitshah', '      thank you narendramodi ji amitshah ji whole nation stands with you as you create ekbharatshreshtbharat i am proud to witness this historical moment article370 operationkashmir modihaitomumkinhai kashmirparfinalfight kashmirhamarahai', 'thank you narendramodi ji amitshah ji this is the best homage to all soldiers martyred in kashmir article370 going going  gone kashmirparfinalfight article15a ']\n",
      "-----------------------------------------------------------------\n",
      "Top Tweets for Cluster 6 with probabilities [1.0, 1.0, 1.0, 1.0, 1.0, 1.0, 1.0, 1.0, 1.0, 1.0]\n",
      "['ladakhwelcomeschange  the declaration of ladakh as a ut has been welcomed by many who believe that it was a muchawaited decision but it is just a beginning article370 ', 'political parties who supported abolition of article 370 35a 1 bjp 2 sad 3 bsp 4 bjd 5 aiadmk 6 ysrcp 7 tdp 8 shivsena 9 trs political parties who opposed 1 congress 2 tmc 3 jdu 4 sp 5 pdp 6 dmk 7 cpm 8 nc kashmirmeintiranga', 'how is the josh  370gaya  kashmirmeintiranga article370 ', 'dna why did india wait for 72 years to scrap article 370 sudhirchaudhary kashmirmeintiranga ', 'dna what the abrogation of article 370 means for jammu amp kashmir sudhirchaudhary kashmirmeintiranga ', 'article370 removed by 370vote loksabha kashmirmeintiranga', 'article370 removed by 370vote jaihosarkar modihaitomumkinhai kashmirmeintiranga loksabha', 'moment of the day  pm narendramodi praising amitshah after bill revoking article370 is passed  kashmirmeintiranga ', 'the vajpayeemanmohan strategy of empowering mainstream kashmiri parties reduced violence and normalised politics modishahs adventurism risks upturning those hardwon gains and ceding the state to radical elements kashmirparfinalfight article370 ', 'article 370 to be withdrawn from kashmir amitshah kashmirparfinalfight']\n",
      "-----------------------------------------------------------------\n"
     ]
    }
   ],
   "source": [
    "df_clusters = []\n",
    "for idx, grp in scatter_df[(scatter_df['cluster_labels']!=-1)].groupby('cluster_labels'):\n",
    "    sorted_grp = grp.sort_values(by='prob',ascending = False)\n",
    "    print('Top Tweets for Cluster {} with probabilities {}'.format(idx,sorted_grp['prob'].tolist()[:10]))\n",
    "    print(sorted_grp['tweets'].tolist()[:10])\n",
    "    print('-----------------------------------------------------------------')\n",
    "    \n",
    "    n = sorted_grp.shape[0]\n",
    "    df_t = pd.DataFrame()\n",
    "    df_t['cluster_id'] = [idx]*n\n",
    "    df_t['tweet'] = sorted_grp['tweets'].tolist()\n",
    "    df_t['probability'] = sorted_grp['prob'].tolist()\n",
    "    df_t['screen_name'] = sorted_grp['screen_name'].tolist()\n",
    "    df_clusters.append(df_t)"
   ]
  },
  {
   "cell_type": "code",
   "execution_count": 41,
   "id": "c5c75dc6",
   "metadata": {},
   "outputs": [],
   "source": [
    "pd.concat(df_clusters, ignore_index = True).to_excel(\"./data/article370_clusters_tweets.xlsx\", index = None)"
   ]
  },
  {
   "cell_type": "code",
   "execution_count": null,
   "id": "b960fcee",
   "metadata": {},
   "outputs": [],
   "source": []
  }
 ],
 "metadata": {
  "kernelspec": {
   "display_name": "Python 3 (ipykernel)",
   "language": "python",
   "name": "python3"
  },
  "language_info": {
   "codemirror_mode": {
    "name": "ipython",
    "version": 3
   },
   "file_extension": ".py",
   "mimetype": "text/x-python",
   "name": "python",
   "nbconvert_exporter": "python",
   "pygments_lexer": "ipython3",
   "version": "3.7.11"
  }
 },
 "nbformat": 4,
 "nbformat_minor": 5
}
